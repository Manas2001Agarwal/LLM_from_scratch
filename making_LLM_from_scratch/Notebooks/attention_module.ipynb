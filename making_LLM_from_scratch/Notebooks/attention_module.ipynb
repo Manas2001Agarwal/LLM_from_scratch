{
 "cells": [
  {
   "cell_type": "code",
   "execution_count": 22,
   "metadata": {},
   "outputs": [],
   "source": [
    "import torch\n",
    "\n",
    "inputs = torch.tensor(\n",
    "  [[0.43, 0.15, 0.89], \n",
    "   [0.55, 0.87, 0.66],\n",
    "   [0.57, 0.85, 0.64], \n",
    "   [0.22, 0.58, 0.33], \n",
    "   [0.77, 0.25, 0.10], \n",
    "   [0.05, 0.80, 0.55]] \n",
    ")"
   ]
  },
  {
   "cell_type": "code",
   "execution_count": 23,
   "metadata": {},
   "outputs": [
    {
     "name": "stdout",
     "output_type": "stream",
     "text": [
      "tensor([[0.4421, 0.5931, 0.5790],\n",
      "        [0.4419, 0.6515, 0.5683],\n",
      "        [0.4431, 0.6496, 0.5671],\n",
      "        [0.4304, 0.6298, 0.5510],\n",
      "        [0.4671, 0.5910, 0.5266],\n",
      "        [0.4177, 0.6503, 0.5645]])\n"
     ]
    }
   ],
   "source": [
    "context_vectors = torch.zeros(inputs.shape)\n",
    "for k in range(inputs.size(0)):\n",
    "    query = inputs[k]\n",
    "    attention_weights = torch.zeros(inputs.size(0))\n",
    "    context_vector = torch.zeros(query.size(0))\n",
    "\n",
    "    for i in range(inputs.size(0)):\n",
    "        attention_weights[i] = torch.dot(inputs[i],query)\n",
    "        \n",
    "    attention_weights = torch.softmax(attention_weights,dim=0)\n",
    "\n",
    "    for j in range(inputs.size(0)):\n",
    "        context_vector += inputs[j]*attention_weights[j]\n",
    "    \n",
    "    context_vectors[k] = context_vector\n",
    "    \n",
    "print(context_vectors)"
   ]
  },
  {
   "cell_type": "code",
   "execution_count": 24,
   "metadata": {},
   "outputs": [
    {
     "name": "stdout",
     "output_type": "stream",
     "text": [
      "tensor([[0.4421, 0.5931, 0.5790],\n",
      "        [0.4419, 0.6515, 0.5683],\n",
      "        [0.4431, 0.6496, 0.5671],\n",
      "        [0.4304, 0.6298, 0.5510],\n",
      "        [0.4671, 0.5910, 0.5266],\n",
      "        [0.4177, 0.6503, 0.5645]])\n"
     ]
    }
   ],
   "source": [
    "att_weights = inputs@inputs.T\n",
    "att_weights = torch.softmax(att_weights,dim=1)\n",
    "c_vectors = att_weights@inputs\n",
    "print(c_vectors)"
   ]
  },
  {
   "cell_type": "markdown",
   "metadata": {},
   "source": [
    "##### Attention with Trainable Weights"
   ]
  },
  {
   "cell_type": "code",
   "execution_count": 27,
   "metadata": {},
   "outputs": [
    {
     "name": "stdout",
     "output_type": "stream",
     "text": [
      "torch.Size([3, 2])\n",
      "torch.Size([3])\n"
     ]
    }
   ],
   "source": [
    "x_2 = inputs[1]\n",
    "d_in = inputs.shape[1]\n",
    "d_out = 2\n",
    "\n",
    "W_q = torch.nn.Parameter(torch.rand(d_in,d_out),requires_grad=False)\n",
    "W_k = torch.nn.Parameter(torch.rand(d_in,d_out),requires_grad=False)\n",
    "W_v = torch.nn.Parameter(torch.rand(d_in,d_out),requires_grad=False)\n",
    "\n",
    "print(W_q.size())\n",
    "print(x_2.size())"
   ]
  },
  {
   "cell_type": "code",
   "execution_count": 28,
   "metadata": {},
   "outputs": [
    {
     "name": "stdout",
     "output_type": "stream",
     "text": [
      "torch.Size([2])\n"
     ]
    }
   ],
   "source": [
    "query_2 = x_2@W_q\n",
    "key_2 = x_2@W_k\n",
    "value_2 = x_2@W_v\n",
    "\n",
    "print(query_2.size())"
   ]
  },
  {
   "cell_type": "code",
   "execution_count": 30,
   "metadata": {},
   "outputs": [
    {
     "name": "stdout",
     "output_type": "stream",
     "text": [
      "torch.Size([6, 2])\n",
      "torch.Size([6, 2])\n"
     ]
    }
   ],
   "source": [
    "key = inputs@W_k\n",
    "value = inputs@W_v\n",
    "\n",
    "print(key.size())\n",
    "print(value.size())"
   ]
  },
  {
   "cell_type": "code",
   "execution_count": 35,
   "metadata": {},
   "outputs": [
    {
     "name": "stdout",
     "output_type": "stream",
     "text": [
      "tensor([1.9417, 2.9210, 2.9031, 1.5773, 1.7641, 1.8577])\n"
     ]
    }
   ],
   "source": [
    "attention_scores_2 = query_2@key.T\n",
    "print(attention_scores_2)"
   ]
  },
  {
   "cell_type": "code",
   "execution_count": 36,
   "metadata": {},
   "outputs": [
    {
     "name": "stdout",
     "output_type": "stream",
     "text": [
      "tensor([0.1321, 0.2640, 0.2607, 0.1021, 0.1165, 0.1245])\n"
     ]
    }
   ],
   "source": [
    "d_k = key.size(-1)\n",
    "attention_weights_2 = torch.softmax(attention_scores_2/(d_k**0.5),dim=-1)\n",
    "print(attention_weights_2)"
   ]
  },
  {
   "cell_type": "code",
   "execution_count": 37,
   "metadata": {},
   "outputs": [
    {
     "name": "stdout",
     "output_type": "stream",
     "text": [
      "tensor([0.6109, 0.7207])\n"
     ]
    }
   ],
   "source": [
    "context_vector_2 = attention_weights_2@value\n",
    "print(context_vector_2)"
   ]
  },
  {
   "cell_type": "markdown",
   "metadata": {},
   "source": [
    "##### Generalizing computation of attention across all inputs"
   ]
  },
  {
   "cell_type": "code",
   "execution_count": 40,
   "metadata": {},
   "outputs": [
    {
     "data": {
      "text/plain": [
       "tensor([[0.8691, 0.8326],\n",
       "        [0.8792, 0.8426],\n",
       "        [0.8789, 0.8422],\n",
       "        [0.8561, 0.8192],\n",
       "        [0.8598, 0.8229],\n",
       "        [0.8610, 0.8242]], grad_fn=<MmBackward0>)"
      ]
     },
     "execution_count": 40,
     "metadata": {},
     "output_type": "execute_result"
    }
   ],
   "source": [
    "inputs = torch.tensor(\n",
    "  [[0.43, 0.15, 0.89], \n",
    "   [0.55, 0.87, 0.66],\n",
    "   [0.57, 0.85, 0.64], \n",
    "   [0.22, 0.58, 0.33], \n",
    "   [0.77, 0.25, 0.10], \n",
    "   [0.05, 0.80, 0.55]] \n",
    ")\n",
    "\n",
    "d_in = inputs.size(1)\n",
    "d_out = 2\n",
    "\n",
    "w_q = torch.nn.Parameter(torch.rand(d_in,d_out))\n",
    "w_k = torch.nn.Parameter(torch.rand(d_in,d_out))\n",
    "w_v = torch.nn.Parameter(torch.rand(d_in,d_out))\n",
    "\n",
    "query = inputs@w_q\n",
    "key = inputs@w_k\n",
    "value = inputs@w_v\n",
    "\n",
    "d_k = key.size(-1)\n",
    "attention_scores = query@key.T\n",
    "attention_weights = torch.softmax(attention_scores/(d_k**0.5),dim=-1)\n",
    "context_vector = attention_weights@value\n",
    "context_vector"
   ]
  },
  {
   "cell_type": "code",
   "execution_count": 102,
   "metadata": {},
   "outputs": [],
   "source": [
    "torch.manual_seed(789)\n",
    "class SelfAttention(torch.nn.Module):\n",
    "    def __init__(self,d_in,d_out,dropout,qkv_bias=False):\n",
    "        super(SelfAttention,self).__init__()\n",
    "        self.w_q = torch.nn.Linear(d_in,d_out,bias=qkv_bias)\n",
    "        self.w_k = torch.nn.Linear(d_in,d_out,bias=qkv_bias)\n",
    "        self.w_v = torch.nn.Linear(d_in,d_out,bias=qkv_bias)\n",
    "        self.dropout = torch.nn.Dropout(dropout)\n",
    "       \n",
    "        \n",
    "    def forward(self,inputs): \n",
    "        query = self.w_q(inputs)\n",
    "        key = self.w_k(inputs)\n",
    "        value = self.w_v(inputs)\n",
    "        d_k = key.size(-1)\n",
    "        attention_scores = query@key.T\n",
    "        \n",
    "        mask = torch.triu(torch.ones(attention_scores.size(0),attention_scores.size(0)),diagonal=1)\n",
    "        masked_attention_scores = attention_scores.masked_fill(mask.bool(),-torch.inf)\n",
    "        \n",
    "        attention_weights = torch.softmax(masked_attention_scores/(d_k**0.5),dim=-1)\n",
    "        attention_weights = self.dropout(attention_weights)\n",
    "        \n",
    "        context_vector = attention_weights@value\n",
    "        return context_vector"
   ]
  },
  {
   "cell_type": "code",
   "execution_count": 103,
   "metadata": {},
   "outputs": [
    {
     "name": "stdout",
     "output_type": "stream",
     "text": [
      "tensor([[-0.1744,  0.0572],\n",
      "        [ 0.0000,  0.0000],\n",
      "        [-0.0632,  0.0576],\n",
      "        [-0.1464,  0.0522],\n",
      "        [-0.0855,  0.0672],\n",
      "        [-0.0716,  0.0365]], grad_fn=<MmBackward0>)\n"
     ]
    }
   ],
   "source": [
    "self_attention = SelfAttention(inputs.size(1),2,0.5)\n",
    "print(self_attention(inputs))"
   ]
  },
  {
   "cell_type": "code",
   "execution_count": 104,
   "metadata": {},
   "outputs": [],
   "source": [
    "class CausalAttention(torch.nn.Module):\n",
    "\n",
    "    def __init__(self, d_in, d_out, context_length,\n",
    "                 dropout, qkv_bias=False):\n",
    "        super().__init__()\n",
    "        self.d_out = d_out\n",
    "        self.W_query = torch.nn.Linear(d_in, d_out, bias=qkv_bias)\n",
    "        self.W_key   = torch.nn.Linear(d_in, d_out, bias=qkv_bias)\n",
    "        self.W_value = torch.nn.Linear(d_in, d_out, bias=qkv_bias)\n",
    "        self.dropout = torch.nn.Dropout(dropout) # New\n",
    "        self.register_buffer('mask', torch.triu(torch.ones(context_length, context_length), diagonal=1)) # New\n",
    "\n",
    "    def forward(self, x):\n",
    "        b, num_tokens, d_in = x.shape # New batch dimension b\n",
    "        keys = self.W_key(x)\n",
    "        queries = self.W_query(x)\n",
    "        values = self.W_value(x)\n",
    "\n",
    "        attn_scores = queries @ keys.transpose(1, 2) # Changed transpose\n",
    "        attn_scores.masked_fill_(  # New, _ ops are in-place\n",
    "            self.mask.bool(), -torch.inf)  # `:num_tokens` to account for cases where the number of tokens in the batch is smaller than the supported context_size\n",
    "        attn_weights = torch.softmax(\n",
    "            attn_scores / keys.shape[-1]**0.5, dim=-1\n",
    "        )\n",
    "        attn_weights = self.dropout(attn_weights) # New\n",
    "\n",
    "        context_vec = attn_weights @ values\n",
    "        return context_vec"
   ]
  },
  {
   "cell_type": "code",
   "execution_count": 106,
   "metadata": {},
   "outputs": [
    {
     "data": {
      "text/plain": [
       "tensor([[[ 0.0000,  0.0000],\n",
       "         [-0.1615, -0.5010],\n",
       "         [ 0.0186, -0.0748],\n",
       "         [-0.0865, -0.2086],\n",
       "         [-0.0534, -0.2567],\n",
       "         [-0.0535, -0.1835]],\n",
       "\n",
       "        [[-0.3596, -0.7687],\n",
       "         [ 0.0183, -0.1166],\n",
       "         [-0.1076, -0.3341],\n",
       "         [ 0.0295, -0.1277],\n",
       "         [ 0.0168, -0.0576],\n",
       "         [ 0.0033, -0.1458]]], grad_fn=<UnsafeViewBackward0>)"
      ]
     },
     "execution_count": 106,
     "metadata": {},
     "output_type": "execute_result"
    }
   ],
   "source": [
    "intp = torch.stack((inputs,inputs))\n",
    "intp.shape\n",
    "causal_attention = CausalAttention(intp.size(2),2,6,0.5)\n",
    "causal_attention(intp)"
   ]
  },
  {
   "cell_type": "code",
   "execution_count": 107,
   "metadata": {},
   "outputs": [],
   "source": [
    "class MultiHeadAttention(torch.nn.Module):\n",
    "    def __init__(self, d_in, d_out, context_length, dropout, num_heads, qkv_bias=False):\n",
    "        super().__init__()\n",
    "        assert (d_out % num_heads == 0), \\\n",
    "            \"d_out must be divisible by num_heads\"\n",
    "\n",
    "        self.d_out = d_out\n",
    "        self.num_heads = num_heads\n",
    "        self.head_dim = d_out // num_heads # Reduce the projection dim to match desired output dim\n",
    "\n",
    "        self.W_query = torch.nn.Linear(d_in, d_out, bias=qkv_bias)\n",
    "        self.W_key = torch.nn.Linear(d_in, d_out, bias=qkv_bias)\n",
    "        self.W_value = torch.nn.Linear(d_in, d_out, bias=qkv_bias)\n",
    "        self.out_proj = torch.nn.Linear(d_out, d_out)  # Linear layer to combine head outputs\n",
    "        self.dropout = torch.nn.Dropout(dropout)\n",
    "        self.register_buffer(\n",
    "            \"mask\",\n",
    "            torch.triu(torch.ones(context_length, context_length),\n",
    "                       diagonal=1)\n",
    "        )\n",
    "\n",
    "    def forward(self, x):\n",
    "        b, num_tokens, d_in = x.shape\n",
    "\n",
    "        keys = self.W_key(x) # Shape: (b, num_tokens, d_out)\n",
    "        queries = self.W_query(x)\n",
    "        values = self.W_value(x)\n",
    "\n",
    "        # We implicitly split the matrix by adding a `num_heads` dimension\n",
    "        # Unroll last dim: (b, num_tokens, d_out) -> (b, num_tokens, num_heads, head_dim)\n",
    "        keys = keys.view(b, num_tokens, self.num_heads, self.head_dim) \n",
    "        values = values.view(b, num_tokens, self.num_heads, self.head_dim)\n",
    "        queries = queries.view(b, num_tokens, self.num_heads, self.head_dim)\n",
    "\n",
    "        # Transpose: (b, num_tokens, num_heads, head_dim) -> (b, num_heads, num_tokens, head_dim)\n",
    "        keys = keys.transpose(1, 2)\n",
    "        queries = queries.transpose(1, 2)\n",
    "        values = values.transpose(1, 2)\n",
    "\n",
    "        # Compute scaled dot-product attention (aka self-attention) with a causal mask\n",
    "        attn_scores = queries @ keys.transpose(2, 3)  # Dot product for each head\n",
    "\n",
    "        # Original mask truncated to the number of tokens and converted to boolean\n",
    "        mask_bool = self.mask.bool()[:num_tokens, :num_tokens]\n",
    "\n",
    "        # Use the mask to fill attention scores\n",
    "        attn_scores.masked_fill_(mask_bool, -torch.inf)\n",
    "        \n",
    "        attn_weights = torch.softmax(attn_scores / keys.shape[-1]**0.5, dim=-1)\n",
    "        attn_weights = self.dropout(attn_weights)\n",
    "\n",
    "        # Shape: (b, num_tokens, num_heads, head_dim)\n",
    "        context_vec = (attn_weights @ values).transpose(1, 2) \n",
    "        \n",
    "        # Combine heads, where self.d_out = self.num_heads * self.head_dim\n",
    "        context_vec = context_vec.contiguous().view(b, num_tokens, self.d_out)\n",
    "        context_vec = self.out_proj(context_vec) # optional projection\n",
    "\n",
    "        return context_vec"
   ]
  },
  {
   "cell_type": "code",
   "execution_count": null,
   "metadata": {},
   "outputs": [],
   "source": []
  },
  {
   "cell_type": "code",
   "execution_count": null,
   "metadata": {},
   "outputs": [],
   "source": []
  },
  {
   "cell_type": "code",
   "execution_count": null,
   "metadata": {},
   "outputs": [],
   "source": []
  },
  {
   "cell_type": "code",
   "execution_count": null,
   "metadata": {},
   "outputs": [],
   "source": []
  },
  {
   "cell_type": "code",
   "execution_count": null,
   "metadata": {},
   "outputs": [],
   "source": []
  },
  {
   "cell_type": "code",
   "execution_count": null,
   "metadata": {},
   "outputs": [],
   "source": []
  }
 ],
 "metadata": {
  "kernelspec": {
   "display_name": "torch",
   "language": "python",
   "name": "python3"
  },
  "language_info": {
   "codemirror_mode": {
    "name": "ipython",
    "version": 3
   },
   "file_extension": ".py",
   "mimetype": "text/x-python",
   "name": "python",
   "nbconvert_exporter": "python",
   "pygments_lexer": "ipython3",
   "version": "3.12.7"
  }
 },
 "nbformat": 4,
 "nbformat_minor": 2
}
